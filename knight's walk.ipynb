{
 "cells": [
  {
   "cell_type": "code",
   "execution_count": 48,
   "metadata": {},
   "outputs": [],
   "source": [
    "import numpy as np"
   ]
  },
  {
   "cell_type": "code",
   "execution_count": 49,
   "metadata": {},
   "outputs": [
    {
     "name": "stdout",
     "output_type": "stream",
     "text": [
      "37\t36\t35\t34\t33\t32\t31\t\n",
      "38\t17\t16\t15\t14\t13\t30\t\n",
      "39\t18\t5\t4\t3\t12\t29\t\n",
      "40\t19\t6\t1\t2\t11\t28\t\n",
      "41\t20\t7\t8\t9\t10\t27\t\n",
      "42\t21\t22\t23\t24\t25\t26\t\n",
      "43\t44\t45\t46\t47\t48\t49\t\n"
     ]
    }
   ],
   "source": [
    "def crea_matrice_spirale(n):\n",
    "\n",
    "    matrice = [[0] * n for _ in range(n)]\n",
    "\n",
    "    numero = 1\n",
    "    riga, colonna = n // 2, n // 2\n",
    "\n",
    "    direzione = \"destra\"\n",
    "    passi = 1\n",
    "    passi_completati = 0\n",
    "\n",
    "    while numero <= n * n:\n",
    "        matrice[riga][colonna] = numero\n",
    "        numero += 1\n",
    "\n",
    "        if direzione == \"destra\":\n",
    "            colonna += 1\n",
    "        elif direzione == \"giù\":\n",
    "            riga += 1\n",
    "        elif direzione == \"sinistra\":\n",
    "            colonna -= 1\n",
    "        elif direzione == \"su\":\n",
    "            riga -= 1\n",
    "\n",
    "        passi_completati += 1\n",
    "\n",
    "        if passi_completati == passi:\n",
    "            passi_completati = 0\n",
    "\n",
    "            if direzione == \"destra\":\n",
    "                direzione = \"su\" \n",
    "            elif direzione == \"su\": \n",
    "                direzione = \"sinistra\"\n",
    "            elif direzione == \"sinistra\":\n",
    "                direzione = \"giù\"\n",
    "            elif direzione == \"giù\":\n",
    "                direzione = \"destra\"\n",
    "\n",
    "            if direzione in [\"destra\", \"sinistra\"]:\n",
    "                passi += 1\n",
    "\n",
    "    return matrice\n",
    "\n",
    "def stampa_matrice(matrice):\n",
    "    for riga in matrice:\n",
    "        for elemento in riga:\n",
    "            print(elemento, end=\"\\t\")\n",
    "        print()\n",
    "\n",
    "n = 7 \n",
    "matrice_spirale = crea_matrice_spirale(n)\n",
    "stampa_matrice(matrice_spirale)\n"
   ]
  },
  {
   "cell_type": "code",
   "execution_count": 50,
   "metadata": {},
   "outputs": [
    {
     "name": "stdout",
     "output_type": "stream",
     "text": [
      "37\t36\t35\t34\t33\t32\t31\t\n",
      "38\t17\t16\t15\t14\t13\t30\t\n",
      "39\t18\t5\t4\t3\t12\t29\t\n",
      "40\t19\t6\t1\t2\t11\t28\t\n",
      "41\t20\t7\t8\t9\t10\t27\t\n",
      "42\t21\t22\t23\t24\t25\t26\t\n",
      "43\t44\t45\t46\t47\t48\t49\t\n"
     ]
    }
   ],
   "source": [
    "# Definizione di una funzione per creare una matrice a spirale di dimensione n x n\n",
    "def crea_matrice_spirale(n):\n",
    "    \n",
    "    # Inizializza una matrice vuota di dimensione n x n con tutti gli elementi inizializzati a 0\n",
    "    matrice = [[0] * n for _ in range(n)]\n",
    "\n",
    "    # Inizializza il numero corrente a 1 e le coordinate della posizione centrale della matrice\n",
    "    numero = 1\n",
    "    riga, colonna = n // 2, n // 2\n",
    "\n",
    "    # Inizializza la direzione iniziale come \"destra\", inizializza il numero di passi iniziale a 1,\n",
    "    # e il numero di passi completati a 0\n",
    "    direzione = \"destra\"\n",
    "    passi = 1\n",
    "    passi_completati = 0\n",
    "\n",
    "    # Finché non abbiamo riempito la matrice con tutti i numeri da 1 a n^2\n",
    "    while numero <= n * n:\n",
    "        # Assegna il numero corrente alla posizione corrente nella matrice\n",
    "        matrice[riga][colonna] = numero\n",
    "        numero += 1\n",
    "\n",
    "        # Sposta la posizione in base alla direzione corrente\n",
    "        if direzione == \"destra\":\n",
    "            colonna += 1\n",
    "        elif direzione == \"giù\":\n",
    "            riga += 1\n",
    "        elif direzione == \"sinistra\":\n",
    "            colonna -= 1\n",
    "        elif direzione == \"su\":\n",
    "            riga -= 1\n",
    "\n",
    "        # Incrementa il conteggio dei passi completati\n",
    "        passi_completati += 1\n",
    "\n",
    "        # Se abbiamo completato il numero di passi previsti nella direzione corrente\n",
    "        if passi_completati == passi:\n",
    "            passi_completati = 0\n",
    "\n",
    "            # Cambia direzione in senso orario (\"destra\" -> \"giù\" -> \"sinistra\" -> \"su\" -> \"destra\")\n",
    "            if direzione == \"destra\":\n",
    "                direzione = \"su\"\n",
    "            elif direzione == \"su\":\n",
    "                direzione = \"sinistra\"\n",
    "            elif direzione == \"sinistra\":\n",
    "                direzione = \"giù\"\n",
    "            elif direzione == \"giù\":\n",
    "                direzione = \"destra\"\n",
    "\n",
    "            # Se la direzione è \"destra\" o \"sinistra\", incrementa il numero di passi\n",
    "            if direzione in [\"destra\", \"sinistra\"]:\n",
    "                passi += 1\n",
    "\n",
    "    # Restituisce la matrice completata\n",
    "    return matrice\n",
    "\n",
    "# Definizione di una funzione per stampare una matrice\n",
    "def stampa_matrice(matrice):\n",
    "    for riga in matrice:\n",
    "        for elemento in riga:\n",
    "            print(elemento, end=\"\\t\")  # Stampa ogni elemento della matrice separato da una tabulazione\n",
    "        print()  # Vai a capo dopo ogni riga\n",
    "\n",
    "# Dimensione della matrice (puoi cambiarla)\n",
    "n = 7\n",
    "\n",
    "# Chiama la funzione per creare la matrice a spirale\n",
    "matrice_spirale = crea_matrice_spirale(n)\n",
    "\n",
    "# Chiama la funzione per stampare la matrice\n",
    "stampa_matrice(matrice_spirale)\n"
   ]
  },
  {
   "cell_type": "code",
   "execution_count": 51,
   "metadata": {},
   "outputs": [],
   "source": [
    "def matrix(n):\n",
    "    board = np.zeros(( 2*n + 1, 2*n + 1),int)\n",
    "    board[n][n] = 1\n",
    "    flag = 1\n",
    "    for i in range (1,n+1):\n",
    "        for j in range (0,2*i):\n",
    "            flag += 1          \n",
    "            board[n-j+i-1][n+i] = flag\n",
    "        for j in range (0,2*i):\n",
    "            flag += 1\n",
    "            board[n-i][n+i-j-1] = flag\n",
    "        for j in range (0,2*i):\n",
    "            flag += 1\n",
    "            board[n-i+j+1][n-i] = flag\n",
    "        for j in range (0,2*i):\n",
    "            flag += 1\n",
    "            board[n+i][n-i+j+1] = flag\n",
    "\n",
    "\n",
    "\n",
    "\n",
    "\n",
    "    return board"
   ]
  },
  {
   "cell_type": "code",
   "execution_count": 52,
   "metadata": {},
   "outputs": [
    {
     "data": {
      "text/plain": [
       "array([[37, 36, 35, 34, 33, 32, 31],\n",
       "       [38, 17, 16, 15, 14, 13, 30],\n",
       "       [39, 18,  5,  4,  3, 12, 29],\n",
       "       [40, 19,  6,  1,  2, 11, 28],\n",
       "       [41, 20,  7,  8,  9, 10, 27],\n",
       "       [42, 21, 22, 23, 24, 25, 26],\n",
       "       [43, 44, 45, 46, 47, 48, 49]])"
      ]
     },
     "execution_count": 52,
     "metadata": {},
     "output_type": "execute_result"
    }
   ],
   "source": [
    "matrix(3)"
   ]
  },
  {
   "cell_type": "code",
   "execution_count": 59,
   "metadata": {},
   "outputs": [],
   "source": [
    "def matrix(n):\n",
    "\n",
    "    board = np.zeros(( 2*n + 1, 2*n + 1),int)\n",
    "\n",
    "    board[n][n] = 1\n",
    "\n",
    "    flag = 1\n",
    "\n",
    "    for i in range (1,n+1):\n",
    "\n",
    "        for j in range (0,2*i):\n",
    "\n",
    "            flag += 1          \n",
    "\n",
    "            board[n-j+i-1][n+i] = flag\n",
    "\n",
    "        for j in range (0,2*i):\n",
    "\n",
    "            flag += 1\n",
    "            board[n-i][n+i-j-1] = flag\n",
    "        for j in range (0,2*i):\n",
    "            flag += 1\n",
    "            board[n-i+j+1][n-i] = flag\n",
    "        for j in range (0,2*i):\n",
    "            flag += 1\n",
    "            board[n+i][n-i+j+1] = flag\n",
    "    return board\n",
    "def walk(board):\n",
    "    reference = len(board)\n",
    "    c = (reference-1) / 2                        \n",
    "    current_position = (c,c)\n",
    "    moves = (-1,-2), (-1,2), (1,-2), (1,2), (-2,-1), (-2,1), (2,-1), (2,1)  \n",
    "    sequence = [board[int(current_position[0]), int(current_position[1])]]      \n",
    "    x_coordinates = [c]          \n",
    "    y_coordinates = [c]\n",
    "    counter_invalid_moves = 0\n",
    "    while counter_invalid_moves < len(moves):\n",
    "        temp_min_value_move = pow(reference,2)\n",
    "        for i in range(len(moves)):\n",
    "            temp_x_coordinate_i = int(current_position[0]) + int(moves[i][0])\n",
    "            temp_y_coordinate_i = int(current_position[1]) + int(moves[i][1])\n",
    "            if ( 0 <= temp_x_coordinate_i < reference ) and ( 0 <=  temp_y_coordinate_i < reference ):\n",
    "                temp_value_at_i_move = board[temp_x_coordinate_i, temp_y_coordinate_i]\n",
    "                if ( temp_value_at_i_move <= temp_min_value_move ) and ( temp_value_at_i_move not in(sequence) ):\n",
    "                    counter_invalid_moves = 0\n",
    "                    temp_min_value_move = temp_value_at_i_move\n",
    "                    i_chosen_move = i\n",
    "                else:\n",
    "                    counter_invalid_moves += 1\n",
    "            else:\n",
    "                counter_invalid_moves += 1\n",
    "        if counter_invalid_moves < len(moves):\n",
    "            temp_x_coordinate_chosen_i = int(current_position[0]) + int(moves[i_chosen_move][0])\n",
    "            temp_y_coordinate_chosen_i = int(current_position[1]) + int(moves[i_chosen_move][1])\n",
    "            current_position = (temp_x_coordinate_chosen_i, temp_y_coordinate_chosen_i)  \n",
    "            if ( 0 <= temp_x_coordinate_i < reference ) and ( 0 <=  temp_y_coordinate_i < reference ):\n",
    "                sequence.append(board[int(current_position[0]), int(current_position[1])])\n",
    "                x_coordinates.append(temp_x_coordinate_chosen_i)\n",
    "                y_coordinates.append(temp_y_coordinate_chosen_i)\n",
    "    n = int(len(board) / 2)\n",
    "    for _ in range (len(sequence)):\n",
    "        x_coordinates[_] -= n\n",
    "        x_coordinates[_] *= (-1)\n",
    "        y_coordinates[_] -= n\n",
    "    return ( sequence, x_coordinates, y_coordinates)"
   ]
  },
  {
   "cell_type": "code",
   "execution_count": 61,
   "metadata": {},
   "outputs": [
    {
     "data": {
      "text/plain": [
       "([1, 10, 6, 3, 8, 2, 5, 14, 11, 7, 9, 13, 17, 4, 19, 16],\n",
       " [-0.0, -1, 0, 1, -1, 0, 1, 2, 0, -1, -1, 2, 2, 1, 0, 2],\n",
       " [0.0, 2, -1, 1, 0, 1, -1, 1, 2, -1, 1, 2, -2, 0, -2, -1])"
      ]
     },
     "execution_count": 61,
     "metadata": {},
     "output_type": "execute_result"
    }
   ],
   "source": [
    "walk(matrix(2))\n"
   ]
  },
  {
   "cell_type": "code",
   "execution_count": null,
   "metadata": {},
   "outputs": [],
   "source": [
    "\"\"\"in this excercise you will use numpy and matplotlib to simulate the greek run. The greek run works as follows:\n",
    "\n",
    "-there are 5 players(1,2,3,4 ) at positions 0,20,40,60,80\n",
    "-players 1,2,3,4 are moving towards the right and player 5 is moving towards the left\n",
    "-if 2 players meet they both switch directions they are running\n",
    "-if a player's position is below 0 or above 100,they are safe\n",
    "-the last player to exit looses\"\"\""
   ]
  }
 ],
 "metadata": {
  "kernelspec": {
   "display_name": "Python 3",
   "language": "python",
   "name": "python3"
  },
  "language_info": {
   "codemirror_mode": {
    "name": "ipython",
    "version": 3
   },
   "file_extension": ".py",
   "mimetype": "text/x-python",
   "name": "python",
   "nbconvert_exporter": "python",
   "pygments_lexer": "ipython3",
   "version": "3.11.0"
  },
  "orig_nbformat": 4
 },
 "nbformat": 4,
 "nbformat_minor": 2
}
