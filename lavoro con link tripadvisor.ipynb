{
 "cells": [
  {
   "cell_type": "code",
   "execution_count": 1,
   "metadata": {},
   "outputs": [],
   "source": [
    "from selenium import webdriver\n",
    "from selenium.webdriver.edge.service import Service\n",
    "from webdriver_manager.microsoft import EdgeChromiumDriverManager\n",
    "from selenium.webdriver.support.wait import WebDriverWait\n",
    "from datetime import datetime\n",
    "import time\n",
    "import csv"
   ]
  },
  {
   "cell_type": "code",
   "execution_count": 2,
   "metadata": {},
   "outputs": [],
   "source": [
    "# get browser, maximise window, open web page\n",
    "browser= webdriver.Edge(service=Service(EdgeChromiumDriverManager().install()))\n",
    "browser.maximize_window()\n",
    "\n",
    "browser.get('https://www.tripadvisor.com/Hotel_Review-g187849-d2340336-Reviews-Armani_Hotel-Milan_Lombardy.html')"
   ]
  },
  {
   "cell_type": "code",
   "execution_count": 3,
   "metadata": {},
   "outputs": [],
   "source": [
    "#wait for cookies, click accept\n",
    "cookies_wait = WebDriverWait(browser, timeout=3)\n",
    "#browser.find_element()\n",
    "cookies_accept = cookies_wait.until(lambda b:b.find_element('xpath','//*[@id=\"onetrust-accept-btn-handler\"]'))\n",
    "cookies_accept.click()"
   ]
  },
  {
   "cell_type": "code",
   "execution_count": 4,
   "metadata": {},
   "outputs": [],
   "source": [
    "\n",
    "expand = browser.find_element('xpath',\"//div[contains(@data-test-target,'expand-review')]\")\n",
    "if expand:\n",
    "    expand.click()"
   ]
  },
  {
   "cell_type": "code",
   "execution_count": 5,
   "metadata": {},
   "outputs": [
    {
     "data": {
      "text/plain": [
       "[<selenium.webdriver.remote.webelement.WebElement (session=\"71e8f3b95f3c3d5476d5edc186ff9732\", element=\"AE50FF8BD9AC591BBED1B2449CA1A6D7_element_60\")>,\n",
       " <selenium.webdriver.remote.webelement.WebElement (session=\"71e8f3b95f3c3d5476d5edc186ff9732\", element=\"AE50FF8BD9AC591BBED1B2449CA1A6D7_element_61\")>,\n",
       " <selenium.webdriver.remote.webelement.WebElement (session=\"71e8f3b95f3c3d5476d5edc186ff9732\", element=\"AE50FF8BD9AC591BBED1B2449CA1A6D7_element_62\")>,\n",
       " <selenium.webdriver.remote.webelement.WebElement (session=\"71e8f3b95f3c3d5476d5edc186ff9732\", element=\"AE50FF8BD9AC591BBED1B2449CA1A6D7_element_63\")>,\n",
       " <selenium.webdriver.remote.webelement.WebElement (session=\"71e8f3b95f3c3d5476d5edc186ff9732\", element=\"AE50FF8BD9AC591BBED1B2449CA1A6D7_element_64\")>,\n",
       " <selenium.webdriver.remote.webelement.WebElement (session=\"71e8f3b95f3c3d5476d5edc186ff9732\", element=\"AE50FF8BD9AC591BBED1B2449CA1A6D7_element_65\")>,\n",
       " <selenium.webdriver.remote.webelement.WebElement (session=\"71e8f3b95f3c3d5476d5edc186ff9732\", element=\"AE50FF8BD9AC591BBED1B2449CA1A6D7_element_66\")>,\n",
       " <selenium.webdriver.remote.webelement.WebElement (session=\"71e8f3b95f3c3d5476d5edc186ff9732\", element=\"AE50FF8BD9AC591BBED1B2449CA1A6D7_element_67\")>,\n",
       " <selenium.webdriver.remote.webelement.WebElement (session=\"71e8f3b95f3c3d5476d5edc186ff9732\", element=\"AE50FF8BD9AC591BBED1B2449CA1A6D7_element_68\")>,\n",
       " <selenium.webdriver.remote.webelement.WebElement (session=\"71e8f3b95f3c3d5476d5edc186ff9732\", element=\"AE50FF8BD9AC591BBED1B2449CA1A6D7_element_69\")>]"
      ]
     },
     "execution_count": 5,
     "metadata": {},
     "output_type": "execute_result"
    }
   ],
   "source": [
    "reviews = browser.find_elements('xpath',\".//div[@data-reviewid]\")\n",
    "reviews"
   ]
  },
  {
   "cell_type": "code",
   "execution_count": 6,
   "metadata": {},
   "outputs": [
    {
     "ename": "InvalidSelectorException",
     "evalue": "Message: invalid selector: Unable to locate an element with the xpath expression .//div[contains(@data-test-target, 'review-title)] because of the following error:\nSyntaxError: Failed to execute 'evaluate' on 'Document': The string './/div[contains(@data-test-target, 'review-title)]' is not a valid XPath expression.\n  (Session info: MicrosoftEdge=116.0.1938.81); For documentation on this error, please visit: https://www.selenium.dev/documentation/webdriver/troubleshooting/errors#invalid-selector-exception\nStacktrace:\n\tGetHandleVerifier [0x00007FF6E5F03D92+61490]\n\tMicrosoft::Applications::Events::EventProperty::~EventProperty [0x00007FF6E5E95FE2+740626]\n\t(No symbol) [0x00007FF6E5C6B8AE]\n\t(No symbol) [0x00007FF6E5C70340]\n\t(No symbol) [0x00007FF6E5C72829]\n\t(No symbol) [0x00007FF6E5C72910]\n\t(No symbol) [0x00007FF6E5CB2FDB]\n\t(No symbol) [0x00007FF6E5CB3405]\n\t(No symbol) [0x00007FF6E5CA709C]\n\t(No symbol) [0x00007FF6E5CD394F]\n\t(No symbol) [0x00007FF6E5CA7021]\n\t(No symbol) [0x00007FF6E5CA6ECD]\n\t(No symbol) [0x00007FF6E5CD3C40]\n\t(No symbol) [0x00007FF6E5CA7021]\n\t(No symbol) [0x00007FF6E5CECE21]\n\t(No symbol) [0x00007FF6E5CD36E3]\n\t(No symbol) [0x00007FF6E5CA5EAA]\n\t(No symbol) [0x00007FF6E5CA518B]\n\t(No symbol) [0x00007FF6E5CA6634]\n\tMicrosoft::Applications::Events::ILogManager::DispatchEventBroadcast [0x00007FF6E60C8D49+1207369]\n\t(No symbol) [0x00007FF6E5D25304]\n\tMicrosoft::Applications::Events::EventProperty::~EventProperty [0x00007FF6E5DE90E1+32273]\n\tMicrosoft::Applications::Events::EventProperty::~EventProperty [0x00007FF6E5DE19D9+1801]\n\tMicrosoft::Applications::Events::ILogManager::DispatchEventBroadcast [0x00007FF6E60C7924+1202212]\n\tMicrosoft::Applications::Events::ILogConfiguration::operator* [0x00007FF6E5E9E978+19784]\n\tMicrosoft::Applications::Events::ILogConfiguration::operator* [0x00007FF6E5E9AE34+4612]\n\tMicrosoft::Applications::Events::ILogConfiguration::operator* [0x00007FF6E5E9AF66+4918]\n\tMicrosoft::Applications::Events::EventProperty::~EventProperty [0x00007FF6E5E8F431+713057]\n\tBaseThreadInitThunk [0x00007FFC1C6753E0+16]\n\tRtlUserThreadStart [0x00007FFC1DD8485B+43]\n",
     "output_type": "error",
     "traceback": [
      "\u001b[1;31m---------------------------------------------------------------------------\u001b[0m",
      "\u001b[1;31mInvalidSelectorException\u001b[0m                  Traceback (most recent call last)",
      "\u001b[1;32mUntitled-1.ipynb Cell 6\u001b[0m line \u001b[0;36m1\n\u001b[0;32m     <a href='vscode-notebook-cell:Untitled-1.ipynb?jupyter-notebook#W5sdW50aXRsZWQ%3D?line=15'>16</a>\u001b[0m date_rec \u001b[39m=\u001b[39m date_obj\u001b[39m.\u001b[39mtext\u001b[39m.\u001b[39mreplace(\u001b[39m\"\u001b[39m\u001b[39mDate of stay: \u001b[39m\u001b[39m\"\u001b[39m,\u001b[39m'\u001b[39m\u001b[39m'\u001b[39m)\n\u001b[0;32m     <a href='vscode-notebook-cell:Untitled-1.ipynb?jupyter-notebook#W5sdW50aXRsZWQ%3D?line=16'>17</a>\u001b[0m date \u001b[39m=\u001b[39m datetime\u001b[39m.\u001b[39mstrptime(date_rec, \u001b[39m'\u001b[39m\u001b[39m%\u001b[39m\u001b[39mB \u001b[39m\u001b[39m%\u001b[39m\u001b[39mY\u001b[39m\u001b[39m'\u001b[39m)\n\u001b[1;32m---> <a href='vscode-notebook-cell:Untitled-1.ipynb?jupyter-notebook#W5sdW50aXRsZWQ%3D?line=18'>19</a>\u001b[0m title \u001b[39m=\u001b[39m review\u001b[39m.\u001b[39;49mfind_element(\u001b[39m'\u001b[39;49m\u001b[39mxpath\u001b[39;49m\u001b[39m'\u001b[39;49m,\u001b[39m\"\u001b[39;49m\u001b[39m.//div[contains(@data-test-target, \u001b[39;49m\u001b[39m'\u001b[39;49m\u001b[39mreview-title)]\u001b[39;49m\u001b[39m\"\u001b[39;49m)\u001b[39m.\u001b[39mtext\n\u001b[0;32m     <a href='vscode-notebook-cell:Untitled-1.ipynb?jupyter-notebook#W5sdW50aXRsZWQ%3D?line=20'>21</a>\u001b[0m comment \u001b[39m=\u001b[39m review\u001b[39m.\u001b[39mfind_element(\u001b[39m'\u001b[39m\u001b[39mxpath\u001b[39m\u001b[39m'\u001b[39m,\u001b[39m\"\u001b[39m\u001b[39m.//span[@class=\u001b[39m\u001b[39m'\u001b[39m\u001b[39mQewHA H4 _a\u001b[39m\u001b[39m'\u001b[39m\u001b[39m]\u001b[39m\u001b[39m\"\u001b[39m)\u001b[39m.\u001b[39mtext\u001b[39m.\u001b[39mreplace(\u001b[39m\"\u001b[39m\u001b[39m\\n\u001b[39;00m\u001b[39m\"\u001b[39m,\u001b[39m\"\u001b[39m\u001b[39m \u001b[39m\u001b[39m\"\u001b[39m)\n\u001b[0;32m     <a href='vscode-notebook-cell:Untitled-1.ipynb?jupyter-notebook#W5sdW50aXRsZWQ%3D?line=22'>23</a>\u001b[0m csvWriter\u001b[39m.\u001b[39mwriterow([score, date\u001b[39m.\u001b[39myear, date\u001b[39m.\u001b[39mmonth, title, comment])\n",
      "File \u001b[1;32m~\\AppData\\Roaming\\Python\\Python311\\site-packages\\selenium\\webdriver\\remote\\webelement.py:416\u001b[0m, in \u001b[0;36mWebElement.find_element\u001b[1;34m(self, by, value)\u001b[0m\n\u001b[0;32m    413\u001b[0m     by \u001b[39m=\u001b[39m By\u001b[39m.\u001b[39mCSS_SELECTOR\n\u001b[0;32m    414\u001b[0m     value \u001b[39m=\u001b[39m \u001b[39mf\u001b[39m\u001b[39m'\u001b[39m\u001b[39m[name=\u001b[39m\u001b[39m\"\u001b[39m\u001b[39m{\u001b[39;00mvalue\u001b[39m}\u001b[39;00m\u001b[39m\"\u001b[39m\u001b[39m]\u001b[39m\u001b[39m'\u001b[39m\n\u001b[1;32m--> 416\u001b[0m \u001b[39mreturn\u001b[39;00m \u001b[39mself\u001b[39;49m\u001b[39m.\u001b[39;49m_execute(Command\u001b[39m.\u001b[39;49mFIND_CHILD_ELEMENT, {\u001b[39m\"\u001b[39;49m\u001b[39musing\u001b[39;49m\u001b[39m\"\u001b[39;49m: by, \u001b[39m\"\u001b[39;49m\u001b[39mvalue\u001b[39;49m\u001b[39m\"\u001b[39;49m: value})[\u001b[39m\"\u001b[39m\u001b[39mvalue\u001b[39m\u001b[39m\"\u001b[39m]\n",
      "File \u001b[1;32m~\\AppData\\Roaming\\Python\\Python311\\site-packages\\selenium\\webdriver\\remote\\webelement.py:394\u001b[0m, in \u001b[0;36mWebElement._execute\u001b[1;34m(self, command, params)\u001b[0m\n\u001b[0;32m    392\u001b[0m     params \u001b[39m=\u001b[39m {}\n\u001b[0;32m    393\u001b[0m params[\u001b[39m\"\u001b[39m\u001b[39mid\u001b[39m\u001b[39m\"\u001b[39m] \u001b[39m=\u001b[39m \u001b[39mself\u001b[39m\u001b[39m.\u001b[39m_id\n\u001b[1;32m--> 394\u001b[0m \u001b[39mreturn\u001b[39;00m \u001b[39mself\u001b[39;49m\u001b[39m.\u001b[39;49m_parent\u001b[39m.\u001b[39;49mexecute(command, params)\n",
      "File \u001b[1;32m~\\AppData\\Roaming\\Python\\Python311\\site-packages\\selenium\\webdriver\\remote\\webdriver.py:344\u001b[0m, in \u001b[0;36mWebDriver.execute\u001b[1;34m(self, driver_command, params)\u001b[0m\n\u001b[0;32m    342\u001b[0m response \u001b[39m=\u001b[39m \u001b[39mself\u001b[39m\u001b[39m.\u001b[39mcommand_executor\u001b[39m.\u001b[39mexecute(driver_command, params)\n\u001b[0;32m    343\u001b[0m \u001b[39mif\u001b[39;00m response:\n\u001b[1;32m--> 344\u001b[0m     \u001b[39mself\u001b[39;49m\u001b[39m.\u001b[39;49merror_handler\u001b[39m.\u001b[39;49mcheck_response(response)\n\u001b[0;32m    345\u001b[0m     response[\u001b[39m\"\u001b[39m\u001b[39mvalue\u001b[39m\u001b[39m\"\u001b[39m] \u001b[39m=\u001b[39m \u001b[39mself\u001b[39m\u001b[39m.\u001b[39m_unwrap_value(response\u001b[39m.\u001b[39mget(\u001b[39m\"\u001b[39m\u001b[39mvalue\u001b[39m\u001b[39m\"\u001b[39m, \u001b[39mNone\u001b[39;00m))\n\u001b[0;32m    346\u001b[0m     \u001b[39mreturn\u001b[39;00m response\n",
      "File \u001b[1;32m~\\AppData\\Roaming\\Python\\Python311\\site-packages\\selenium\\webdriver\\remote\\errorhandler.py:229\u001b[0m, in \u001b[0;36mErrorHandler.check_response\u001b[1;34m(self, response)\u001b[0m\n\u001b[0;32m    227\u001b[0m         alert_text \u001b[39m=\u001b[39m value[\u001b[39m\"\u001b[39m\u001b[39malert\u001b[39m\u001b[39m\"\u001b[39m]\u001b[39m.\u001b[39mget(\u001b[39m\"\u001b[39m\u001b[39mtext\u001b[39m\u001b[39m\"\u001b[39m)\n\u001b[0;32m    228\u001b[0m     \u001b[39mraise\u001b[39;00m exception_class(message, screen, stacktrace, alert_text)  \u001b[39m# type: ignore[call-arg]  # mypy is not smart enough here\u001b[39;00m\n\u001b[1;32m--> 229\u001b[0m \u001b[39mraise\u001b[39;00m exception_class(message, screen, stacktrace)\n",
      "\u001b[1;31mInvalidSelectorException\u001b[0m: Message: invalid selector: Unable to locate an element with the xpath expression .//div[contains(@data-test-target, 'review-title)] because of the following error:\nSyntaxError: Failed to execute 'evaluate' on 'Document': The string './/div[contains(@data-test-target, 'review-title)]' is not a valid XPath expression.\n  (Session info: MicrosoftEdge=116.0.1938.81); For documentation on this error, please visit: https://www.selenium.dev/documentation/webdriver/troubleshooting/errors#invalid-selector-exception\nStacktrace:\n\tGetHandleVerifier [0x00007FF6E5F03D92+61490]\n\tMicrosoft::Applications::Events::EventProperty::~EventProperty [0x00007FF6E5E95FE2+740626]\n\t(No symbol) [0x00007FF6E5C6B8AE]\n\t(No symbol) [0x00007FF6E5C70340]\n\t(No symbol) [0x00007FF6E5C72829]\n\t(No symbol) [0x00007FF6E5C72910]\n\t(No symbol) [0x00007FF6E5CB2FDB]\n\t(No symbol) [0x00007FF6E5CB3405]\n\t(No symbol) [0x00007FF6E5CA709C]\n\t(No symbol) [0x00007FF6E5CD394F]\n\t(No symbol) [0x00007FF6E5CA7021]\n\t(No symbol) [0x00007FF6E5CA6ECD]\n\t(No symbol) [0x00007FF6E5CD3C40]\n\t(No symbol) [0x00007FF6E5CA7021]\n\t(No symbol) [0x00007FF6E5CECE21]\n\t(No symbol) [0x00007FF6E5CD36E3]\n\t(No symbol) [0x00007FF6E5CA5EAA]\n\t(No symbol) [0x00007FF6E5CA518B]\n\t(No symbol) [0x00007FF6E5CA6634]\n\tMicrosoft::Applications::Events::ILogManager::DispatchEventBroadcast [0x00007FF6E60C8D49+1207369]\n\t(No symbol) [0x00007FF6E5D25304]\n\tMicrosoft::Applications::Events::EventProperty::~EventProperty [0x00007FF6E5DE90E1+32273]\n\tMicrosoft::Applications::Events::EventProperty::~EventProperty [0x00007FF6E5DE19D9+1801]\n\tMicrosoft::Applications::Events::ILogManager::DispatchEventBroadcast [0x00007FF6E60C7924+1202212]\n\tMicrosoft::Applications::Events::ILogConfiguration::operator* [0x00007FF6E5E9E978+19784]\n\tMicrosoft::Applications::Events::ILogConfiguration::operator* [0x00007FF6E5E9AE34+4612]\n\tMicrosoft::Applications::Events::ILogConfiguration::operator* [0x00007FF6E5E9AF66+4918]\n\tMicrosoft::Applications::Events::EventProperty::~EventProperty [0x00007FF6E5E8F431+713057]\n\tBaseThreadInitThunk [0x00007FFC1C6753E0+16]\n\tRtlUserThreadStart [0x00007FFC1DD8485B+43]\n"
     ]
    }
   ],
   "source": [
    "with open ('ArmaniHotelReviews.csv', 'w', encoding=\"utf-8\") as csvFile:\n",
    "    csvWriter=csv.writer(csvFile)\n",
    "    \n",
    "    for i in range(10): #loop 10 pagine\n",
    "\n",
    "        time.sleep(3)\n",
    "\n",
    "        reviews =browser.find_elements('xpath', \".//div[@data-reviewid]\")\n",
    "\n",
    "        for review in reviews:\n",
    "\n",
    "            rating_bubble = review.find_element('xpath',\".//span[contains(@class,'ui_bubble_rating bubble_')]\")\n",
    "            score = rating_bubble.get_attribute(\"class\").split(\"_\")[3]\n",
    "\n",
    "            date_obj = review.find_element('xpath',\".//span[@class='teHYY _R Me S4 H3']\")\n",
    "            date_rec = date_obj.text.replace(\"Date of stay: \",'')\n",
    "            date = datetime.strptime(date_rec, '%B %Y')\n",
    "\n",
    "            title = review.find_element('xpath',\".//div[contains(@data-test-target, 'review-title)]\").text\n",
    "\n",
    "            comment = review.find_element('xpath',\".//span[@class='QewHA H4 _a']\").text.replace(\"\\n\",\" \")\n",
    "\n",
    "            csvWriter.writerow([score, date.year, date.month, title, comment])\n",
    "\n",
    "        browser.find_element('xpath', './/a[@class=\"ui_button nav next primary \"]').click()"
   ]
  }
 ],
 "metadata": {
  "kernelspec": {
   "display_name": "Python 3",
   "language": "python",
   "name": "python3"
  },
  "language_info": {
   "codemirror_mode": {
    "name": "ipython",
    "version": 3
   },
   "file_extension": ".py",
   "mimetype": "text/x-python",
   "name": "python",
   "nbconvert_exporter": "python",
   "pygments_lexer": "ipython3",
   "version": "3.11.0"
  },
  "orig_nbformat": 4
 },
 "nbformat": 4,
 "nbformat_minor": 2
}
